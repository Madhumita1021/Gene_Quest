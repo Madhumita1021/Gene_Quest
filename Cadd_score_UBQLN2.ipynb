{
  "nbformat": 4,
  "nbformat_minor": 0,
  "metadata": {
    "colab": {
      "provenance": [],
      "authorship_tag": "ABX9TyPSGyDoLNd2Ud1XtJ1GcKH5",
      "include_colab_link": true
    },
    "kernelspec": {
      "name": "python3",
      "display_name": "Python 3"
    },
    "language_info": {
      "name": "python"
    }
  },
  "cells": [
    {
      "cell_type": "markdown",
      "metadata": {
        "id": "view-in-github",
        "colab_type": "text"
      },
      "source": [
        "<a href=\"https://colab.research.google.com/github/suravipanigrahi22/Gene_Quest/blob/main/Cadd_score_UBQLN2.ipynb\" target=\"_parent\"><img src=\"https://colab.research.google.com/assets/colab-badge.svg\" alt=\"Open In Colab\"/></a>"
      ]
    },
    {
      "cell_type": "code",
      "execution_count": 1,
      "metadata": {
        "colab": {
          "base_uri": "https://localhost:8080/"
        },
        "id": "Id1LCVb7DONT",
        "outputId": "c654026d-88b0-4ea8-afef-6dd237d0715a"
      },
      "outputs": [
        {
          "output_type": "stream",
          "name": "stdout",
          "text": [
            "Enter UBQLN2 variant (e.g., P509S): P509S\n",
            "\n",
            "🔎 Variant: P509S → Genomic: X:56565398 C>T\n",
            "🔗 ClinVar page: https://www.ncbi.nlm.nih.gov/clinvar/variation/29953/\n",
            "\n",
            "📊 To get CADD Score:\n",
            "🔗 Open this link → https://cadd.gs.washington.edu/snv\n",
            "👉 Enter the following into the form:\n",
            "   - Chromosome: X\n",
            "   - Position: 56565398\n",
            "   - Reference Allele: C\n",
            "   - Alternate Allele: T\n",
            "\n",
            "🧠 PHRED Score Interpretation:\n",
            " ┌──────────────┬─────────────────────────────────────────────────┐\n",
            " │ PHRED Score  │ Interpretation                                 │\n",
            " ├──────────────┼─────────────────────────────────────────────────┤\n",
            " │ 30+          │ Highly deleterious (top 0.1% of variants)       │\n",
            " │ 20–30        │ Possibly pathogenic                             │\n",
            " │ 10–20        │ Moderate effect                                 │\n",
            " │ <10          │ Likely benign or neutral                        │\n",
            " └──────────────┴─────────────────────────────────────────────────┘\n"
          ]
        }
      ],
      "source": [
        "# ✅ UBQLN2 Variant CADD & ClinVar Lookup (Manual Redirect)\n",
        "\n",
        "# Dictionary of known UBQLN2 variants with genomic positions (GRCh38)\n",
        "known_variants = {\n",
        "    \"P509S\": {\"chrom\": \"X\", \"pos\": \"56565398\", \"ref\": \"C\", \"alt\": \"T\", \"clinvar_id\": \"29953\"},\n",
        "    \"P497L\": {\"chrom\": \"X\", \"pos\": \"56565362\", \"ref\": \"C\", \"alt\": \"T\", \"clinvar_id\": \"40303\"},\n",
        "    \"T487I\": {\"chrom\": \"X\", \"pos\": \"56565332\", \"ref\": \"C\", \"alt\": \"T\", \"clinvar_id\": \"11344\"},\n",
        "    \"A19V\":  {\"chrom\": \"X\", \"pos\": \"56563684\", \"ref\": \"C\", \"alt\": \"T\", \"clinvar_id\": \"529218\"}\n",
        "}\n",
        "\n",
        "# 🧬 Ask user for known UBQLN2 variant name\n",
        "variant_input = input(\"Enter UBQLN2 variant (e.g., P509S): \").strip().upper()\n",
        "\n",
        "if variant_input in known_variants:\n",
        "    data = known_variants[variant_input]\n",
        "    chrom = data['chrom']\n",
        "    pos = data['pos']\n",
        "    ref = data['ref']\n",
        "    alt = data['alt']\n",
        "    clinvar_id = data['clinvar_id']\n",
        "\n",
        "    print(f\"\\n🔎 Variant: {variant_input} → Genomic: {chrom}:{pos} {ref}>{alt}\")\n",
        "    print(f\"🔗 ClinVar page: https://www.ncbi.nlm.nih.gov/clinvar/variation/{clinvar_id}/\")\n",
        "\n",
        "    # ✅ CADD Form URL (manual input works best)\n",
        "    print(f\"\\n📊 To get CADD Score:\")\n",
        "    print(f\"🔗 Open this link → https://cadd.gs.washington.edu/snv\")\n",
        "    print(f\"👉 Enter the following into the form:\")\n",
        "    print(f\"   - Chromosome: {chrom}\")\n",
        "    print(f\"   - Position: {pos}\")\n",
        "    print(f\"   - Reference Allele: {ref}\")\n",
        "    print(f\"   - Alternate Allele: {alt}\")\n",
        "\n",
        "    # PHRED Score Interpretation\n",
        "    print(\"\\n🧠 PHRED Score Interpretation:\")\n",
        "    print(\" ┌──────────────┬─────────────────────────────────────────────────┐\")\n",
        "    print(\" │ PHRED Score  │ Interpretation                                 │\")\n",
        "    print(\" ├──────────────┼─────────────────────────────────────────────────┤\")\n",
        "    print(\" │ 30+          │ Highly deleterious (top 0.1% of variants)       │\")\n",
        "    print(\" │ 20–30        │ Possibly pathogenic                             │\")\n",
        "    print(\" │ 10–20        │ Moderate effect                                 │\")\n",
        "    print(\" │ <10          │ Likely benign or neutral                        │\")\n",
        "    print(\" └──────────────┴─────────────────────────────────────────────────┘\")\n",
        "\n",
        "else:\n",
        "    print(f\"❌ Variant '{variant_input}' not recognized. Try one of: {list(known_variants.keys())}\")\n"
      ]
    }
  ]
}